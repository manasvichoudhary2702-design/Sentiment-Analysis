{
 "cells": [
  {
   "cell_type": "code",
   "execution_count": 1,
   "id": "83fd8a3d-f9f6-4060-be81-12fcc12ded37",
   "metadata": {},
   "outputs": [
    {
     "name": "stdout",
     "output_type": "stream",
     "text": [
      "Requirement already satisfied: pandas in c:\\users\\win10\\anaconda3\\envs\\gba\\lib\\site-packages (2.3.2)\n",
      "Requirement already satisfied: numpy>=1.22.4 in c:\\users\\win10\\anaconda3\\envs\\gba\\lib\\site-packages (from pandas) (2.2.6)\n",
      "Requirement already satisfied: python-dateutil>=2.8.2 in c:\\users\\win10\\anaconda3\\envs\\gba\\lib\\site-packages (from pandas) (2.9.0.post0)\n",
      "Requirement already satisfied: pytz>=2020.1 in c:\\users\\win10\\anaconda3\\envs\\gba\\lib\\site-packages (from pandas) (2025.2)\n",
      "Requirement already satisfied: tzdata>=2022.7 in c:\\users\\win10\\anaconda3\\envs\\gba\\lib\\site-packages (from pandas) (2025.2)\n",
      "Requirement already satisfied: six>=1.5 in c:\\users\\win10\\anaconda3\\envs\\gba\\lib\\site-packages (from python-dateutil>=2.8.2->pandas) (1.17.0)\n",
      "Note: you may need to restart the kernel to use updated packages.\n"
     ]
    }
   ],
   "source": [
    "pip install pandas"
   ]
  },
  {
   "cell_type": "code",
   "execution_count": 2,
   "id": "27a78165-e303-4b87-800b-0ffac8e966fc",
   "metadata": {},
   "outputs": [
    {
     "name": "stdout",
     "output_type": "stream",
     "text": [
      "  review_id customer_name       date         restaurant_name  \\\n",
      "0     R1001  Aarav Sharma 2024-03-14     Fresh Craft Kitchen   \n",
      "1     R1002    Priya Nair 2024-07-02  The Bombay Bar & Grill   \n",
      "2     R1003  Rohit Kapoor 2024-11-21        Chaats & Chakhna   \n",
      "3     R1004   Kavya Menon 2024-05-08          Sundara Spices   \n",
      "4     R1005     Arjun Rao 2024-08-19    Mangalorean Delights   \n",
      "\n",
      "                        food_item  rating  \\\n",
      "0  Paneer Butter Masala with Naan       5   \n",
      "1            Butter Chicken Thali       4   \n",
      "2                Aloo Tikki Chaat       3   \n",
      "3                     Masala Dosa       5   \n",
      "4            Fish Curry with Rice       4   \n",
      "\n",
      "                                         review_text  delivery_time_min  \\\n",
      "0  delicious and flavorful, perfectly cooked pane...                 28   \n",
      "1  rich flavors, good portion size. a bit oily bu...                 34   \n",
      "2  toppings were fresh, but chutneys were a bit t...                 26   \n",
      "3  crispy dosa with perfect masala. chutney and s...                 22   \n",
      "4  delicious fish curry, rice was fluffy. deliver...                 38   \n",
      "\n",
      "       locality  \n",
      "0   Indiranagar  \n",
      "1     Jayanagar  \n",
      "2   Koramangala  \n",
      "3  Banashankari  \n",
      "4  Malleshwaram  \n"
     ]
    }
   ],
   "source": [
    "import pandas as pd\n",
    "\n",
    "df = pd.read_excel(r\"C:\\Users\\win10\\Downloads\\bengaluru_food_delivery_reviews.xlsx\")\n",
    "\n",
    "print(df.head())"
   ]
  },
  {
   "cell_type": "code",
   "execution_count": 3,
   "id": "a6469e29-c6c8-4bcd-83d0-9907cf13d70e",
   "metadata": {},
   "outputs": [
    {
     "name": "stdout",
     "output_type": "stream",
     "text": [
      "Requirement already satisfied: nltk in c:\\users\\win10\\anaconda3\\envs\\gba\\lib\\site-packages (3.9.1)\n",
      "Requirement already satisfied: click in c:\\users\\win10\\anaconda3\\envs\\gba\\lib\\site-packages (from nltk) (8.2.1)\n",
      "Requirement already satisfied: joblib in c:\\users\\win10\\anaconda3\\envs\\gba\\lib\\site-packages (from nltk) (1.5.2)\n",
      "Requirement already satisfied: regex>=2021.8.3 in c:\\users\\win10\\anaconda3\\envs\\gba\\lib\\site-packages (from nltk) (2025.9.1)\n",
      "Requirement already satisfied: tqdm in c:\\users\\win10\\anaconda3\\envs\\gba\\lib\\site-packages (from nltk) (4.67.1)\n",
      "Requirement already satisfied: colorama in c:\\users\\win10\\anaconda3\\envs\\gba\\lib\\site-packages (from click->nltk) (0.4.6)\n",
      "Note: you may need to restart the kernel to use updated packages.\n"
     ]
    }
   ],
   "source": [
    "pip install nltk"
   ]
  },
  {
   "cell_type": "code",
   "execution_count": 4,
   "id": "94ba3c0b-5778-49c6-91c6-1cf3e50cc6b3",
   "metadata": {},
   "outputs": [
    {
     "name": "stderr",
     "output_type": "stream",
     "text": [
      "[nltk_data] Downloading package punkt_tab to\n",
      "[nltk_data]     C:\\Users\\win10\\AppData\\Roaming\\nltk_data...\n",
      "[nltk_data]   Package punkt_tab is already up-to-date!\n"
     ]
    },
    {
     "data": {
      "text/plain": [
       "True"
      ]
     },
     "execution_count": 4,
     "metadata": {},
     "output_type": "execute_result"
    }
   ],
   "source": [
    "import nltk\n",
    "\n",
    "nltk.download('punkt_tab')"
   ]
  },
  {
   "cell_type": "code",
   "execution_count": 8,
   "id": "795d83ea-7269-429b-a918-c916c8a33750",
   "metadata": {},
   "outputs": [
    {
     "name": "stdout",
     "output_type": "stream",
     "text": [
      "  review_id customer_name       date         restaurant_name  \\\n",
      "0     R1001  Aarav Sharma 2024-03-14     Fresh Craft Kitchen   \n",
      "1     R1002    Priya Nair 2024-07-02  The Bombay Bar & Grill   \n",
      "2     R1003  Rohit Kapoor 2024-11-21        Chaats & Chakhna   \n",
      "3     R1004   Kavya Menon 2024-05-08          Sundara Spices   \n",
      "4     R1005     Arjun Rao 2024-08-19    Mangalorean Delights   \n",
      "\n",
      "                        food_item  rating  \\\n",
      "0  Paneer Butter Masala with Naan       5   \n",
      "1            Butter Chicken Thali       4   \n",
      "2                Aloo Tikki Chaat       3   \n",
      "3                     Masala Dosa       5   \n",
      "4            Fish Curry with Rice       4   \n",
      "\n",
      "                                                text  \\\n",
      "0  delicious and flavorful, perfectly cooked pane...   \n",
      "1  rich flavors, good portion size. a bit oily bu...   \n",
      "2  toppings were fresh, but chutneys were a bit t...   \n",
      "3  crispy dosa with perfect masala. chutney and s...   \n",
      "4  delicious fish curry, rice was fluffy. deliver...   \n",
      "\n",
      "                                      tokenized_text  \\\n",
      "0  [delicious, and, flavorful, ,, perfectly, cook...   \n",
      "1  [rich, flavors, ,, good, portion, size, ., a, ...   \n",
      "2  [toppings, were, fresh, ,, but, chutneys, were...   \n",
      "3  [crispy, dosa, with, perfect, masala, ., chutn...   \n",
      "4  [delicious, fish, curry, ,, rice, was, fluffy,...   \n",
      "\n",
      "                                      lowercase_text  \\\n",
      "0  delicious and flavorful, perfectly cooked pane...   \n",
      "1  rich flavors, good portion size. a bit oily bu...   \n",
      "2  toppings were fresh, but chutneys were a bit t...   \n",
      "3  crispy dosa with perfect masala. chutney and s...   \n",
      "4  delicious fish curry, rice was fluffy. deliver...   \n",
      "\n",
      "                               no_special_chars_text  \\\n",
      "0  delicious and flavorful perfectly cooked panee...   \n",
      "1  rich flavors good portion size a bit oily but ...   \n",
      "2  toppings were fresh but chutneys were a bit to...   \n",
      "3  crispy dosa with perfect masala chutney and sa...   \n",
      "4  delicious fish curry rice was fluffy delivery ...   \n",
      "\n",
      "                              stopwords_removed_text  \n",
      "0  delicious flavorful perfectly cooked paneer so...  \n",
      "1  rich flavors good portion size bit oily overal...  \n",
      "2            toppings fresh chutneys bit sweet taste  \n",
      "3    crispy dosa perfect masala chutney sambar point  \n",
      "4  delicious fish curry rice fluffy delivery coul...  \n"
     ]
    }
   ],
   "source": [
    "import nltk\n",
    "from nltk.corpus import stopwords\n",
    "from nltk.tokenize import word_tokenize\n",
    "import re\n",
    "\n",
    "# Load your excel file\n",
    "# The 'r' before the string is a good practice for file paths in Python\n",
    "df = pd.read_excel(r\"C:\\Users\\win10\\Downloads\\bengaluru_food_delivery_reviews.xlsx\")\n",
    "\n",
    "# IMPORTANT: Make sure your text column is actually named 'text'.\n",
    "# If it has a different name (e.g., 'Reviews'), change 'text' in the lines below.\n",
    "# You can check the column names by running: print(df.columns)\n",
    "\n",
    "# 1. Remove missing rows from the 'text' column\n",
    "df.dropna(subset=['text'], inplace=True)\n",
    "\n",
    "# 2. Tokenize the 'text' column\n",
    "df['tokenized_text'] = df['text'].apply(word_tokenize)\n",
    "\n",
    "# 3. Make every text in the 'text' column lower case\n",
    "df['lowercase_text'] = df['text'].str.lower()\n",
    "\n",
    "# 4. Remove special characters\n",
    "df['no_special_chars_text'] = df['lowercase_text'].apply(lambda x: re.sub(r'[^a-zA-Z0-9\\s]', '', x))\n",
    "\n",
    "# 5. Remove stopwords\n",
    "stop_words = set(stopwords.words('english'))\n",
    "df['stopwords_removed_text'] = df['no_special_chars_text'].apply(lambda x: ' '.join([word for word in x.split() if word not in stop_words]))\n",
    "\n",
    "print(df.head())"
   ]
  },
  {
   "cell_type": "code",
   "execution_count": 9,
   "id": "00415b8c-ec69-4906-a69b-e2da8fb63065",
   "metadata": {},
   "outputs": [
    {
     "name": "stdout",
     "output_type": "stream",
     "text": [
      "File has been saved successfully as 'project_processed_reviews.xlsx'\n"
     ]
    }
   ],
   "source": [
    "# Define the name for your new Excel file\n",
    "output_filename = 'project_processed_reviews.xlsx'\n",
    "\n",
    "# Save the DataFrame to an Excel file\n",
    "# The index=False argument prevents pandas from writing the DataFrame index as a column in the Excel file.\n",
    "df.to_excel(output_filename, index=False)\n",
    "\n",
    "print(f\"File has been saved successfully as '{output_filename}'\")"
   ]
  },
  {
   "cell_type": "code",
   "execution_count": 15,
   "id": "4d5a5aa2-ec26-444c-b2e2-3dd8f6fb7590",
   "metadata": {},
   "outputs": [
    {
     "name": "stdout",
     "output_type": "stream",
     "text": [
      "                              stopwords_removed_text  polarity  subjectivity  \\\n",
      "0  delicious flavorful perfectly cooked paneer so...   0.70000      0.783333   \n",
      "1  rich flavors good portion size bit oily overal...   0.39375      0.587500   \n",
      "2            toppings fresh chutneys bit sweet taste   0.32500      0.575000   \n",
      "3    crispy dosa perfect masala chutney sambar point   1.00000      1.000000   \n",
      "4  delicious fish curry rice fluffy delivery coul...   0.40000      0.700000   \n",
      "\n",
      "  sentiment_category  \n",
      "0           Positive  \n",
      "1           Positive  \n",
      "2           Positive  \n",
      "3           Positive  \n",
      "4           Positive  \n",
      "\n",
      "Sentiment analysis complete. Results saved to 'reviews_with_sentiment.xlsx'\n"
     ]
    }
   ],
   "source": [
    "from textblob import TextBlob\n",
    "\n",
    "# 1. Load your preprocessed Excel file\n",
    "input_filename = 'project_processed_reviews.xlsx'\n",
    "df = pd.read_excel(input_filename)\n",
    "\n",
    "# Ensure the target column is treated as a string to avoid errors\n",
    "df['stopwords_removed_text'] = df['stopwords_removed_text'].astype(str)\n",
    "\n",
    "# 2. Define functions to get polarity and subjectivity\n",
    "def get_polarity(text):\n",
    "    return TextBlob(text).sentiment.polarity\n",
    "\n",
    "def get_subjectivity(text):\n",
    "    return TextBlob(text).sentiment.subjectivity\n",
    "\n",
    "# 3. Apply the functions to the 'stopwords_removed_text' column\n",
    "df['polarity'] = df['stopwords_removed_text'].apply(get_polarity)\n",
    "df['subjectivity'] = df['stopwords_removed_text'].apply(get_subjectivity)\n",
    "\n",
    "# 4. Create a sentiment category column\n",
    "def get_sentiment_category(polarity):\n",
    "    if polarity > 0:\n",
    "        return 'Positive'\n",
    "    elif polarity < 0:\n",
    "        return 'Negative'\n",
    "    else:\n",
    "        return 'Neutral'\n",
    "\n",
    "df['sentiment_category'] = df['polarity'].apply(get_sentiment_category)\n",
    "\n",
    "# 5. Display the results\n",
    "# We'll show the text column and the new sentiment columns\n",
    "print(df[['stopwords_removed_text', 'polarity', 'subjectivity', 'sentiment_category']].head())\n",
    "\n",
    "# Optional: Save the new DataFrame with sentiment scores to a new Excel file\n",
    "df.to_excel('reviews_with_sentiment.xlsx', index=False)\n",
    "print(\"\\nSentiment analysis complete. Results saved to 'reviews_with_sentiment.xlsx'\")"
   ]
  },
  {
   "cell_type": "code",
   "execution_count": 11,
   "id": "9ccd03f0-fa4f-4f29-9c0d-5a3106a68669",
   "metadata": {},
   "outputs": [
    {
     "name": "stdout",
     "output_type": "stream",
     "text": [
      "Requirement already satisfied: matplotlib in c:\\users\\win10\\anaconda3\\envs\\gba\\lib\\site-packages (3.10.6)Note: you may need to restart the kernel to use updated packages.\n",
      "\n",
      "Requirement already satisfied: contourpy>=1.0.1 in c:\\users\\win10\\anaconda3\\envs\\gba\\lib\\site-packages (from matplotlib) (1.3.2)\n",
      "Requirement already satisfied: cycler>=0.10 in c:\\users\\win10\\anaconda3\\envs\\gba\\lib\\site-packages (from matplotlib) (0.12.1)\n",
      "Requirement already satisfied: fonttools>=4.22.0 in c:\\users\\win10\\anaconda3\\envs\\gba\\lib\\site-packages (from matplotlib) (4.60.0)\n",
      "Requirement already satisfied: kiwisolver>=1.3.1 in c:\\users\\win10\\anaconda3\\envs\\gba\\lib\\site-packages (from matplotlib) (1.4.9)\n",
      "Requirement already satisfied: numpy>=1.23 in c:\\users\\win10\\anaconda3\\envs\\gba\\lib\\site-packages (from matplotlib) (2.2.6)\n",
      "Requirement already satisfied: packaging>=20.0 in c:\\users\\win10\\anaconda3\\envs\\gba\\lib\\site-packages (from matplotlib) (25.0)\n",
      "Requirement already satisfied: pillow>=8 in c:\\users\\win10\\anaconda3\\envs\\gba\\lib\\site-packages (from matplotlib) (11.3.0)\n",
      "Requirement already satisfied: pyparsing>=2.3.1 in c:\\users\\win10\\anaconda3\\envs\\gba\\lib\\site-packages (from matplotlib) (3.2.5)\n",
      "Requirement already satisfied: python-dateutil>=2.7 in c:\\users\\win10\\anaconda3\\envs\\gba\\lib\\site-packages (from matplotlib) (2.9.0.post0)\n",
      "Requirement already satisfied: six>=1.5 in c:\\users\\win10\\anaconda3\\envs\\gba\\lib\\site-packages (from python-dateutil>=2.7->matplotlib) (1.17.0)\n"
     ]
    }
   ],
   "source": []
  },
  {
   "cell_type": "code",
   "execution_count": 16,
   "id": "69232258-6e27-49b4-9411-626a80aebfd4",
   "metadata": {},
   "outputs": [
    {
     "data": {
      "image/png": "[encoded data removed]",
      "text/plain": [
       "<Figure size 800x800 with 1 Axes>"
      ]
     },
     "metadata": {},
     "output_type": "display_data"
    }
   ],
   "source": [
    "import pandas as pd\n",
    "import matplotlib.pyplot as plt\n",
    "\n",
    "# Load the data from your Excel file\n",
    "df = pd.read_excel(r\"C:\\Users\\win10\\Downloads\\reviews_with_sentiment (1).xlsx\")\n",
    "\n",
    "# Count the occurrences of each sentiment category\n",
    "sentiment_counts = df['sentiment_category'].value_counts()\n",
    "\n",
    "# Create the pie chart\n",
    "plt.figure(figsize=(8, 8))\n",
    "plt.pie(sentiment_counts, labels=sentiment_counts.index, autopct='%1.1f%%', startangle=140)\n",
    "plt.title('Sentiment Category Distribution')\n",
    "plt.ylabel('')  # This hides the 'sentiment_category' label on the side\n",
    "\n",
    "# Display the chart\n",
    "plt.show()"
   ]
  },
  {
   "cell_type": "code",
   "execution_count": null,
   "id": "2aea639c-325f-467f-bf56-4ba6b27d48b6",
   "metadata": {},
   "outputs": [],
   "source": []
  }
 ],
 "metadata": {
  "kernelspec": {
   "display_name": "Python 3 (ipykernel)",
   "language": "python",
   "name": "python3"
  },
  "language_info": {
   "codemirror_mode": {
    "name": "ipython",
    "version": 3
   },
   "file_extension": ".py",
   "mimetype": "text/x-python",
   "name": "python",
   "nbconvert_exporter": "python",
   "pygments_lexer": "ipython3",
   "version": "3.10.18"
  }
 },
 "nbformat": 4,
 "nbformat_minor": 5
}
